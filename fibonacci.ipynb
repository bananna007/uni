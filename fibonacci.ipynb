{
 "cells": [
  {
   "cell_type": "code",
   "execution_count": 7,
   "metadata": {},
   "outputs": [
    {
     "name": "stdout",
     "output_type": "stream",
     "text": [
      "987\n"
     ]
    }
   ],
   "source": [
    "which = int(input(\"Enter which index you would like?\")) #fibonacci with for loop\n",
    "\n",
    "a=0\n",
    "b=1\n",
    "\n",
    "if which==0:\n",
    "    print(a)\n",
    "elif which==1:\n",
    "    print(b)\n",
    "else:   \n",
    "    for i in range(2,which+1):\n",
    "        c=a\n",
    "        a=b\n",
    "        b=c+b\n",
    "    print(b)"
   ]
  },
  {
   "cell_type": "code",
   "execution_count": null,
   "metadata": {},
   "outputs": [
    {
     "name": "stdout",
     "output_type": "stream",
     "text": [
      "987\n"
     ]
    }
   ],
   "source": [
    "which = int(input(\"Enter which index you would like?\")) #fibonacci with for loop\n",
    "\n",
    "a=0\n",
    "b=1\n",
    "\n",
    "if which==0:\n",
    "    print(a)\n",
    "elif which==1:\n",
    "    print(b)\n",
    "else:   \n",
    "    for i in range(2,which+1):\n",
    "        c=a\n",
    "        a=b\n",
    "        b=c+b\n",
    "    print(b)"
   ]
  }
 ],
 "metadata": {
  "kernelspec": {
   "display_name": "Python 3",
   "language": "python",
   "name": "python3"
  },
  "language_info": {
   "codemirror_mode": {
    "name": "ipython",
    "version": 3
   },
   "file_extension": ".py",
   "mimetype": "text/x-python",
   "name": "python",
   "nbconvert_exporter": "python",
   "pygments_lexer": "ipython3",
   "version": "3.12.6"
  }
 },
 "nbformat": 4,
 "nbformat_minor": 2
}
