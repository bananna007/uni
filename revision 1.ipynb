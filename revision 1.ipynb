{
 "cells": [
  {
   "cell_type": "code",
   "execution_count": 8,
   "metadata": {},
   "outputs": [
    {
     "name": "stdout",
     "output_type": "stream",
     "text": [
      "1 1.5 9 0.5\n"
     ]
    }
   ],
   "source": [
    "y=2\n",
    "z=3\n",
    "x = z//y #floor division, returns integer \n",
    "a = z/y #true division, returns float\n",
    "b = z**y \n",
    "c = z%2.5\n",
    "print(f\"{x} {a} {b} {c}\")"
   ]
  },
  {
   "cell_type": "code",
   "execution_count": 12,
   "metadata": {},
   "outputs": [
    {
     "name": "stdout",
     "output_type": "stream",
     "text": [
      "{1, 2, 3, 4} {1: 'one', 2: 'two', 3: 'three', 4: 'four'} [1, 2, 3, 4] (1, 2, 3, 4) \n"
     ]
    }
   ],
   "source": [
    "a = {1, 2, 3, 4}  #set unordered, changable, indexed \n",
    "d = {1:\"one\",\n",
    "     2:\"two\",\n",
    "     3:\"three\",\n",
    "     4:\"four\"\n",
    "     }  #dictionary ordered, changable\n",
    "b = (1, 2, 3, 4) #tuple ordered, unchangable, allows duplicates \n",
    "c = [1, 2, 3, 4] #list ordered, changable, allows duplicates \n",
    "print (f\"{a} {d} {c} {b} \")"
   ]
  },
  {
   "cell_type": "code",
   "execution_count": 16,
   "metadata": {},
   "outputs": [
    {
     "name": "stdout",
     "output_type": "stream",
     "text": [
      "you like 1\n"
     ]
    }
   ],
   "source": [
    "lang = input(\"choose a number 1-3\")\n",
    "match lang:\n",
    "    case \"1\":\n",
    "        print(\"you like 1\")\n",
    "    case \"2\":\n",
    "        print(\" you like 2\")\n",
    "    case \"3\":\n",
    "        print(\"you like 3\")"
   ]
  },
  {
   "cell_type": "code",
   "execution_count": 19,
   "metadata": {},
   "outputs": [
    {
     "name": "stdout",
     "output_type": "stream",
     "text": [
      "a is 1 years old.\n",
      "b is 2 years old.\n",
      "c is 3 years old.\n",
      "a is 0\n",
      "b is 1\n",
      "c is 2\n"
     ]
    }
   ],
   "source": [
    "names = [\"a\", \"b\" ,\"c\"]\n",
    "ages= [1, 2, 3]\n",
    "\n",
    "for x, y in zip(names, ages):  #zip is used to get 2 objects \n",
    "    print(f\"{x} is {y} years old.\")\n",
    "\n",
    "for i, x in enumerate(names):  #enumerate is used to get the position\n",
    "    print(f\"{x} is {i}\")"
   ]
  },
  {
   "cell_type": "code",
   "execution_count": 20,
   "metadata": {},
   "outputs": [
    {
     "name": "stdout",
     "output_type": "stream",
     "text": [
      "not equal\n"
     ]
    }
   ],
   "source": [
    "a=1\n",
    "b=2\n",
    "a==b\n",
    "if not a==b:\n",
    "    print(\"not equal\")"
   ]
  },
  {
   "cell_type": "code",
   "execution_count": 9,
   "metadata": {},
   "outputs": [
    {
     "name": "stdout",
     "output_type": "stream",
     "text": [
      "['a', 'b', 'c', 'd']\n",
      "['a', 'c', 'd']\n",
      "['a', 'c', 'd', 'e']\n",
      "['a', 'c', 'd', 'e', 'f', 'g', 'h']\n",
      "['a', 'c', 'd', 'e', 'f', 'g', 'h', 'i', 'j', 'k']\n",
      "['a', 'b', 'c', 'd', 'e', 'f', 'g', 'h', 'i', 'j', 'k']\n",
      "['a', 'c', 'd', 'e', 'f', 'g', 'h', 'i', 'j', 'k']\n"
     ]
    }
   ],
   "source": [
    "thislist = [\"a\",\"b\",\"c\",\"d\"]\n",
    "print (thislist)\n",
    "#perform remove, append, extend, insert, pop functions\n",
    "thislist.remove(\"b\") #remove a particular object\n",
    "print(thislist)\n",
    "thislist.append(\"e\") #append to end of list\n",
    "print (thislist)\n",
    "thatlist=[\"f\",\"g\",\"h\"]\n",
    "thislist.extend(thatlist) #extend with list\n",
    "print (thislist)\n",
    "thistuple=(\"i\",\"j\",\"k\")\n",
    "thislist.extend(thistuple) #extend with tuple\n",
    "print (thislist)\n",
    "thislist.insert(1,\"b\") #insert to a position\n",
    "print (thislist)\n",
    "thislist.pop(1) #pop to remove something in a position\n",
    "print (thislist)\n",
    "\n",
    "\n"
   ]
  },
  {
   "cell_type": "code",
   "execution_count": 101,
   "metadata": {},
   "outputs": [
    {
     "name": "stdout",
     "output_type": "stream",
     "text": [
      "5\n",
      "[1, 2, 3, 4, 5]\n",
      "[5, 4, 3, 2, 1]\n",
      "yes\n"
     ]
    },
    {
     "data": {
      "text/plain": [
       "\" \\nprint(b, c) won't work if the sort and reverse were\\nassigned variables b as c as python modifies a list but\\ndoes not create a new one with sort and reverse.\\n\""
      ]
     },
     "execution_count": 101,
     "metadata": {},
     "output_type": "execute_result"
    }
   ],
   "source": [
    "newlist=[1,2,3,4,5]\n",
    "print (len(newlist)) #length\n",
    "newlist.sort() #sort alpha or numerically\n",
    "print (newlist) \n",
    "newlist.reverse() #reverse sorting\n",
    "print (newlist) \n",
    "if 2 in newlist: #membership \n",
    "    print (\"yes\")  \n",
    "\n",
    "''' \n",
    "print(b, c) won't work if the sort and reverse were\n",
    "assigned variables b as c as python modifies a list but\n",
    "does not create a new one with sort and reverse.\n",
    "'''"
   ]
  },
  {
   "cell_type": "code",
   "execution_count": 16,
   "metadata": {},
   "outputs": [
    {
     "name": "stdout",
     "output_type": "stream",
     "text": [
      "('hi', 'hello', 'hola', 'adios', 'ciao')\n",
      "hi\n",
      "('hello', 'hola', 'adios', 'ciao')\n",
      "('hola', 'adios')\n",
      "('hi', 'hello')\n",
      "('hi', 'hello', 'hola', 'adios', 'ciao')\n"
     ]
    }
   ],
   "source": [
    "a = (\"hi\",\"hello\",\"hola\",\"adios\",\"ciao\") #tuple\n",
    "print(a)\n",
    "print(a[0]) #just position 0\n",
    "print(a[1:]) #position 1 to end \n",
    "print(a[2:4]) #position 2 to 4 (not including 4)\n",
    "print(a[:2]) #start to position 2 (not including 2)\n",
    "print(a) #slicing generates copies not edits to actual tuple\n"
   ]
  },
  {
   "cell_type": "code",
   "execution_count": 19,
   "metadata": {},
   "outputs": [
    {
     "name": "stdout",
     "output_type": "stream",
     "text": [
      "wonder\n",
      "wonderful\n"
     ]
    }
   ],
   "source": [
    "newstring = \"wonderful\"\n",
    "print(newstring[:6]) #sliced string upto and not including position 6\n",
    "print (newstring) #returns original as only copy is generated during slicing"
   ]
  },
  {
   "cell_type": "code",
   "execution_count": 22,
   "metadata": {},
   "outputs": [
    {
     "name": "stdout",
     "output_type": "stream",
     "text": [
      "['hi', 'hello', 'hola', 'adios', 'ciao']\n",
      "['hola', 'adios']\n",
      "['hi', 'hello', 'hola', 'adios']\n",
      "['hi', 'hello', 'hola', 'adios', 'ciao']\n"
     ]
    }
   ],
   "source": [
    "b = [\"hi\",\"hello\",\"hola\",\"adios\",\"ciao\"] #list\n",
    "print (b)\n",
    "print(b[2:4]) #slicing 2 to 4, not including 4\n",
    "print (b[0:-1]) #negative indice -1 is the first position from last\n",
    "print (b)\n"
   ]
  },
  {
   "cell_type": "code",
   "execution_count": 28,
   "metadata": {},
   "outputs": [
    {
     "name": "stdout",
     "output_type": "stream",
     "text": [
      "{False, True, 2.1, 'hello'}\n",
      "False\n",
      "True\n",
      "2.1\n",
      "hello\n",
      "{'c', 'd', 'a', 'f', 'e', 'b'}\n",
      "6\n",
      "{'c', 'd', 'a', 'f', 'e', 'z', 'b'}\n",
      "{'c', 'q', 'w', 'f', 'd', 'a', 'e', 'z', 'b', 'v'}\n"
     ]
    }
   ],
   "source": [
    "c={\"hello\",True,1,2.1,False,1} #set is unordered, unindexed, and no duplicates\n",
    "print(c) #both 1s are removed as python sees true and 1 as equivalent so it just kept the true\n",
    "\n",
    "for i in c:\n",
    "    print(i) #prints each item\n",
    "\n",
    "d={\"a\",\"b\",\"c\",\"d\",\"e\",\"f\",\"a\"} #set\n",
    "print(d) #one a is removed\n",
    "\n",
    "print(len(d)) #length of set without duplicate\n",
    "\n",
    "d.add(\"z\") #adds it anywhere in set\n",
    "print(d) \n",
    "\n",
    "e = {\"q\",\"w\",\"v\"} #newset\n",
    "d.update(e) #combining both sets\n",
    "print(d)"
   ]
  },
  {
   "cell_type": "code",
   "execution_count": 46,
   "metadata": {},
   "outputs": [
    {
     "name": "stdout",
     "output_type": "stream",
     "text": [
      "{'yellow': 'y', 'red': 'r', 'green': 'g', 'black': 'b'}\n",
      "yellow\n",
      "red\n",
      "green\n",
      "black\n",
      "y\n",
      "{'yellow': 'y', 'red': 'r', 'green': 'g', 'black': 'b', 'fushia': 'f'}\n",
      "{'yellow': 'y', 'red': 'r', 'green': 'g', 'black': 'b'}\n",
      "{'yellow': 'y', 'red': 'r', 'green': 'g', 'black': 'bl'}\n",
      "4\n",
      "{}\n"
     ]
    }
   ],
   "source": [
    "chaos_dict = {\n",
    "    \"yellow\":\"y\",\n",
    "    \"red\":\"r\",\n",
    "    \"green\":\"g\",\n",
    "    \"black\":\"b\"\n",
    "}\n",
    "print(chaos_dict) #print whole dictionary\n",
    "for i in chaos_dict: #prints just keys without values\n",
    "    print(i) \n",
    "print(chaos_dict[\"yellow\"]) #need to ref the key to print the value\n",
    "\n",
    "chaos_dict[\"fushia\"]=\"f\" #to update a dictionary\n",
    "print(chaos_dict)\n",
    "del chaos_dict[\"fushia\"] #to delete a key and value pair\n",
    "print(chaos_dict)\n",
    "chaos_dict[\"black\"]=\"bl\" #no duplicate keys, so value will get updated\n",
    "print(chaos_dict)\n",
    "\n",
    "print(len(chaos_dict))\n",
    "chaos_dict.clear()\n",
    "print(chaos_dict)"
   ]
  },
  {
   "cell_type": "code",
   "execution_count": 59,
   "metadata": {},
   "outputs": [
    {
     "name": "stdout",
     "output_type": "stream",
     "text": [
      "{'a': 'abba', 'b': 'bamboo', 'c': 'camera'}\n",
      "{'liver': 'organ', 'sun': 'star', 'gate': 'item'}\n",
      "abba\n",
      "dict_items([('liver', 'organ'), ('sun', 'star'), ('gate', 'item')])\n",
      "dict_keys(['a', 'b', 'c'])\n",
      "{'sun': 'star', 'gate': 'item'}\n",
      "{'a': 'abba', 'b': 'bamboo'}\n",
      "{'a': 'abba', 'b': 'bamboo', 'sun': 'star', 'gate': 'item'}\n"
     ]
    }
   ],
   "source": [
    "dict_1 = dict([  #creating dict using tuples within a list in a dict function\n",
    "    (\"a\",\"abba\"),\n",
    "    (\"b\",\"bamboo\"),\n",
    "    (\"c\",\"camera\")\n",
    "])\n",
    "print(dict_1)\n",
    "\n",
    "dict_2 = dict(  #creating a dict by passing keyword arguments in dict function\n",
    "    liver = \"organ\",\n",
    "    sun = \"star\",\n",
    "    gate = \"item\"\n",
    ")\n",
    "print(dict_2)\n",
    "\n",
    "print(dict_1.get(\"a\")) #returns value is key exists\n",
    "print(dict_2.items()) #returns key-value pairs as tuples\n",
    "print(dict_1.keys()) #returns all keys\n",
    "dict_2.pop(\"liver\") #remove a key-value pair\n",
    "print(dict_2)\n",
    "dict_1.popitem() #removes the last key value pair from dict\n",
    "print(dict_1)\n",
    "dict_1.update(dict_2) #merge dictionaries\n",
    "print(dict_1)"
   ]
  },
  {
   "cell_type": "code",
   "execution_count": 61,
   "metadata": {},
   "outputs": [
    {
     "name": "stdout",
     "output_type": "stream",
     "text": [
      "[] {} () set()\n"
     ]
    }
   ],
   "source": [
    "a = [] #empty list\n",
    "b = {} #empty dict\n",
    "c = () #empty tuple\n",
    "d = set() #empty set\n",
    "print (f\"{a} {b} {c} {d}\")"
   ]
  },
  {
   "cell_type": "code",
   "execution_count": 64,
   "metadata": {},
   "outputs": [
    {
     "name": "stdout",
     "output_type": "stream",
     "text": [
      "a\n",
      "b\n",
      "c\n",
      "d\n"
     ]
    }
   ],
   "source": [
    "#theory of iteration\n",
    "list1= [\"a\", \"b\", \"c\", \"d\"] #lists, tuples, sets, dictionaries are iterables, doesn't support next()\n",
    "my_iterator = iter(list1) #iterator is an iterable that supports next() made by function iter()\n",
    "print(next(my_iterator)) #next() function shows each iteration of the iterator\n",
    "print(next(my_iterator))\n",
    "print(next(my_iterator))\n",
    "print(next(my_iterator)) #final next() invokes the stop as it reached the end of the list "
   ]
  },
  {
   "cell_type": "code",
   "execution_count": 74,
   "metadata": {},
   "outputs": [
    {
     "name": "stdout",
     "output_type": "stream",
     "text": [
      "12.56\n"
     ]
    }
   ],
   "source": [
    "def area_of_circle(r):  #function with r as argument\n",
    "    return float(3.14*r*r) #stores the calculated value when a value is passed through\n",
    "\n",
    "\n",
    "radius = input(\"what is the radius of the circle?\") #input for a radius\n",
    "the_area = area_of_circle(float(radius)) #variable the_area stores the value of radius passed through the function\n",
    "print(the_area)\n"
   ]
  },
  {
   "cell_type": "code",
   "execution_count": 87,
   "metadata": {},
   "outputs": [
    {
     "name": "stdout",
     "output_type": "stream",
     "text": [
      "I am outer\n",
      "40\n",
      "50\n",
      "30\n",
      "50\n"
     ]
    }
   ],
   "source": [
    "def outer():\n",
    "    a = \"I am outer\"\n",
    "    b = 30\n",
    "    c = 20\n",
    "\n",
    "    def inner():\n",
    "        print (a)\n",
    "        b = 40\n",
    "        print (b) #without nonlocal, b has 2 values\n",
    "        nonlocal c #nonlocal is used for an inner function to modify a variable in the outer function\n",
    "        c = 50\n",
    "        print(c) \n",
    "\n",
    "    inner() #inner function can access variable of outer function\n",
    "\n",
    "outer()\n",
    "print(b) #inner and outer b has different values\n",
    "print(c) #modified value from inner is applied in outer"
   ]
  },
  {
   "cell_type": "code",
   "execution_count": 84,
   "metadata": {},
   "outputs": [
    {
     "name": "stdout",
     "output_type": "stream",
     "text": [
      "20\n",
      "10\n",
      "30\n",
      "30\n"
     ]
    }
   ],
   "source": [
    "b = 10 #outside the function\n",
    "def a_function():\n",
    "    b = 20 #creates new value inside function\n",
    "    print(b)\n",
    "a_function()\n",
    "print (b) #outside value remains the same\n",
    "\n",
    "def b_function():\n",
    "    global b #made b from outside function global \n",
    "    b = 30 #global b modified inside function \n",
    "    print (b)\n",
    "b_function() \n",
    "print(b)  #same value inside and outside function"
   ]
  },
  {
   "cell_type": "code",
   "execution_count": 93,
   "metadata": {},
   "outputs": [
    {
     "name": "stdout",
     "output_type": "stream",
     "text": [
      "Hi Unknown\n",
      "Hi Anna\n",
      "Your name is Fiona and your age is 21\n",
      "Your name is Fauna and your age is 84\n"
     ]
    }
   ],
   "source": [
    "def newthing(name = \"Unknown\"): #set default for optional parameters\n",
    "    print (f\"Hi {name}\")\n",
    "\n",
    "newthing() #default parameter\n",
    "newthing(\"Anna\") #argument given\n",
    "\n",
    "def newer_thing(name2,age=\"21\"): #required parameter first, optional parameter with default given\n",
    "    print(f\"Your name is {name2} and your age is {age}\")\n",
    "\n",
    "newer_thing(\"Fiona\") #required is inputted, default will be printed for the other argument\n",
    "newer_thing(\"Fauna\",\"84\") #both are inputted"
   ]
  },
  {
   "cell_type": "code",
   "execution_count": 102,
   "metadata": {},
   "outputs": [
    {
     "name": "stdout",
     "output_type": "stream",
     "text": [
      "['apple']\n",
      "['apple', 'banana']\n",
      "['apple']\n",
      "['banana']\n"
     ]
    }
   ],
   "source": [
    "def random_function(item, items=[]): #list, dictionaries, sets, tuples are mutable. Items is a mutable default list\n",
    "    items.append(item)  \n",
    "    print (items)\n",
    "\n",
    "random_function(\"apple\") \n",
    "random_function(\"banana\") #due to mutable default, it caused banana to be added to list with apple instead of a new list\n",
    "\n",
    "def random_function_2(item, items=None):\n",
    "    if items is None:\n",
    "        items=[]\n",
    "        items.append(item)\n",
    "    print(items)\n",
    "\n",
    "'''\n",
    "This is a docstring to explain the above function. It uses setting the items list to none and an if command under it so that the items list will\n",
    "be reset every time the function is called so that each object goes into a new list.\n",
    "'''\n",
    "\n",
    "random_function_2(\"apple\") \n",
    "random_function_2(\"banana\")\n"
   ]
  }
 ],
 "metadata": {
  "kernelspec": {
   "display_name": "Python 3",
   "language": "python",
   "name": "python3"
  },
  "language_info": {
   "codemirror_mode": {
    "name": "ipython",
    "version": 3
   },
   "file_extension": ".py",
   "mimetype": "text/x-python",
   "name": "python",
   "nbconvert_exporter": "python",
   "pygments_lexer": "ipython3",
   "version": "3.12.6"
  }
 },
 "nbformat": 4,
 "nbformat_minor": 2
}
