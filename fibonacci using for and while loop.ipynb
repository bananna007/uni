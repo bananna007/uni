{
 "cells": [
  {
   "cell_type": "code",
   "execution_count": 49,
   "metadata": {},
   "outputs": [
    {
     "name": "stdout",
     "output_type": "stream",
     "text": [
      "2\n"
     ]
    }
   ],
   "source": [
    "a = 0\n",
    "b = 1\n",
    "ans = int(input(\"what number?\"))\n",
    "\n",
    "if ans==1:\n",
    "    print(a)\n",
    "elif ans==2:\n",
    "    print(b)\n",
    "else:\n",
    "    for i in range(3,ans+1):\n",
    "        c=a\n",
    "        a=b\n",
    "        b=c+a\n",
    "        \n",
    "    print (b)"
   ]
  },
  {
   "cell_type": "code",
   "execution_count": 53,
   "metadata": {},
   "outputs": [
    {
     "name": "stdout",
     "output_type": "stream",
     "text": [
      "89\n"
     ]
    }
   ],
   "source": [
    "a = 0\n",
    "b = 1\n",
    "count = 2\n",
    "ans = int(input(\"what number?\"))\n",
    "\n",
    "if ans==1:\n",
    "    print(a)\n",
    "elif ans==2:\n",
    "    print(b)\n",
    "else:\n",
    "    while count<ans:\n",
    "        count+=1\n",
    "        c=a\n",
    "        a=b\n",
    "        b=c+a\n",
    "    print (b)\n"
   ]
  }
 ],
 "metadata": {
  "kernelspec": {
   "display_name": "Python 3",
   "language": "python",
   "name": "python3"
  },
  "language_info": {
   "codemirror_mode": {
    "name": "ipython",
    "version": 3
   },
   "file_extension": ".py",
   "mimetype": "text/x-python",
   "name": "python",
   "nbconvert_exporter": "python",
   "pygments_lexer": "ipython3",
   "version": "3.12.6"
  }
 },
 "nbformat": 4,
 "nbformat_minor": 2
}
