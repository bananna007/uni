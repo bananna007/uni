{
 "cells": [
  {
   "cell_type": "code",
   "execution_count": 4,
   "metadata": {},
   "outputs": [
    {
     "name": "stdout",
     "output_type": "stream",
     "text": [
      "Current Sum = 2.0\n",
      "Current Sum = 5.0\n",
      "Current Sum = 9.0\n",
      "invalid\n",
      "invalid\n",
      "Current Sum = 14.0\n",
      "invalid\n",
      "invalid\n",
      "Current Sum = 18.0\n"
     ]
    }
   ],
   "source": [
    "sum = 0\n",
    "on = True\n",
    "\n",
    "while on:\n",
    "    try:\n",
    "        n=input(\"Enter number:\")\n",
    "        if n==\"\":\n",
    "            print (\"invalid\")\n",
    "            continue\n",
    "\n",
    "        n = float(n)\n",
    "\n",
    "        if n==0:\n",
    "            on = False\n",
    "        else: \n",
    "            sum += n\n",
    "            print(f\"Current Sum = {sum}\")\n",
    "\n",
    "    except ValueError:\n",
    "        print (\"invalid\")\n",
    "    "
   ]
  },
  {
   "cell_type": "code",
   "execution_count": null,
   "metadata": {},
   "outputs": [
    {
     "name": "stdout",
     "output_type": "stream",
     "text": [
      "Not just banana\n"
     ]
    }
   ],
   "source": [
    "class NotABannnaError(Exception):\n",
    "    pass\n",
    "\n",
    "\n",
    "def am_I_a_banana(a):\n",
    "    if a=='banana':\n",
    "        return (\"Just banana\")\n",
    "    elif 'banana' in a:\n",
    "        return (\"Not just banana\")\n",
    "    else:\n",
    "        raise NotABannnaError()\n",
    "\n",
    "try:\n",
    "    fruit=input()\n",
    "    am_I_a_banana(fruit)\n",
    "except NotABannnaError:\n",
    "    print (f\"{fruit} is not a banana\")\n"
   ]
  },
  {
   "cell_type": "code",
   "execution_count": null,
   "metadata": {},
   "outputs": [
    {
     "name": "stdout",
     "output_type": "stream",
     "text": [
      "70-80\n",
      "60-70\n",
      "50-60\n",
      "40-50\n",
      "There is something wrong\n"
     ]
    }
   ],
   "source": [
    "class DoubleConversionFailError(Exception):\n",
    "    pass\n",
    "\n",
    "def GradeConverter():\n",
    "    run = True\n",
    "    converted=''\n",
    "    while run:\n",
    "        a = input()\n",
    "        a = a.upper()\n",
    "\n",
    "        if a==\"\":\n",
    "            break\n",
    "\n",
    "        if a==\"END\":\n",
    "            quit \n",
    "            \n",
    "        if a=='F':\n",
    "            converted=\"0-40\"\n",
    "        elif a=='D':\n",
    "            converted=\"40-50\"\n",
    "        elif a=='C':\n",
    "            converted=\"50-60\"\n",
    "        elif a=='B':\n",
    "            converted=\"60-70\"\n",
    "        elif a=='A':\n",
    "            converted=\"70-80\"\n",
    "        elif a=='A+':\n",
    "            converted=\"80+\"\n",
    "        else:\n",
    "            a = int(a)\n",
    "            if a>=0 and a<40:\n",
    "                converted='F'\n",
    "            elif a>=40 and a<50:\n",
    "                converted='D'\n",
    "            elif a>=50 and a<60:\n",
    "                converted='C'\n",
    "            elif a>=60 and a<70:\n",
    "                converted='B'\n",
    "            elif a>=70 and a<80:\n",
    "                converted='A'\n",
    "            elif a>=80:\n",
    "                converted='A+'\n",
    "            else:\n",
    "                raise DoubleConversionFailError()\n",
    "        \n",
    "        print (converted)\n",
    "\n",
    "try:\n",
    "    GradeConverter()\n",
    "except DoubleConversionFailError:\n",
    "    print(\"There is something wrong\")\n",
    "except ValueError:\n",
    "    print(\"There is something wrong\")\n"
   ]
  }
 ],
 "metadata": {
  "kernelspec": {
   "display_name": "Python 3",
   "language": "python",
   "name": "python3"
  },
  "language_info": {
   "codemirror_mode": {
    "name": "ipython",
    "version": 3
   },
   "file_extension": ".py",
   "mimetype": "text/x-python",
   "name": "python",
   "nbconvert_exporter": "python",
   "pygments_lexer": "ipython3",
   "version": "3.12.6"
  }
 },
 "nbformat": 4,
 "nbformat_minor": 2
}
